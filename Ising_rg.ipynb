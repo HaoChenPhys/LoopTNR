{
 "cells": [
  {
   "cell_type": "code",
   "execution_count": 36,
   "id": "62afffa9",
   "metadata": {},
   "outputs": [],
   "source": [
    "import numpy as np\n",
    "import matplotlib.pyplot as plt\n",
    "\n",
    "import yastn.yastn as yastn\n",
    "from loopTNR import LoopTNR\n",
    "from Ising import Ising_dense, Ising_critical_beta"
   ]
  },
  {
   "cell_type": "markdown",
   "id": "fcaac6bb",
   "metadata": {},
   "source": [
    "### Free Energy density\n",
    "\n",
    "The partition function of a $\\sqrt{2}^n \\times \\sqrt{2}^n$ patch is\n",
    "$$\n",
    "Z = \\text{Tr}(T^{\\sqrt{2}^n \\times \\sqrt{2}^n}_0) \n",
    "= \\text{Tr}(T^{\\sqrt{2}^{n-1} \\times \\sqrt{2}^{n-1}}_1) \\cdot \\lambda_1^{2^{n-1}}\n",
    "= \\text{Tr}(T^{\\sqrt{2}^{n-2} \\times \\sqrt{2}^{n-2}}_2) \\cdot \\lambda_1^{2^{n-1}} \\lambda_2^{2^{n-2}} \\\\\n",
    "=\\text{Tr}(T^{\\sqrt{2}^{2} \\times \\sqrt{2}^{2}}_{n-2}) \n",
    "\\prod_{i=1}^{n-2} \\lambda_i^{2^{n-i}},\n",
    "$$\n",
    "where $\\lambda_i$ is the normalization constant of $T_i$. Therefore, the free-energy density is\n",
    "\n",
    "$$\n",
    "f = -\\frac{1}{\\beta 2^{n}} \\ln Z = -\\frac{1}{\\beta}\\left(\\frac{1}{2^n}\\ln \\text{Tr}(T^{2\\times 2}_{n-2})  +\n",
    " \\sum_{i=1}^{n-2} \\frac{1}{2^i} \\ln \\lambda_i \\right)\n",
    "$$"
   ]
  },
  {
   "cell_type": "code",
   "execution_count": null,
   "id": "a27a23a6",
   "metadata": {},
   "outputs": [],
   "source": [
    "def F_exact(beta):\n",
    "    N = 10000;\n",
    "    maglambda = 1/(np.sinh(2*beta)**2)\n",
    "    x = np.linspace(0,np.pi,N+1)\n",
    "    y = np.log(np.cosh(2*beta)*np.cosh(2*beta) + (1/maglambda)*np.sqrt(\n",
    "            1+maglambda**2 -2*maglambda*np.cos(2*x)))\n",
    "    return -1/beta*((np.log(2)/2) + 0.25*sum(y[1:(N+1)] + y[:N])/N)\n",
    "\n",
    "def post_processing(TNR):\n",
    "    normalizations = []\n",
    "    for site in TNR.psi.sites():\n",
    "        norm = TNR.psi[site].norm(p='inf')\n",
    "        TNR.psi[site] = TNR.psi[site]/norm\n",
    "        normalizations.append(norm)\n",
    "    return normalizations\n",
    "\n",
    "def trace_2x2(TNR):\n",
    "    t1, t2, t3, t4 = TNR.psi[(0,0)], TNR.psi[(0,1)], TNR.psi[(1,1)], TNR.psi[(1, 0)]\n",
    "    L = yastn.tensordot(t1, t4, axes=((0, 2), (2, 0)))\n",
    "    R = yastn.tensordot(t2, t3, axes=((0, 2), (2, 0)))\n",
    "    return yastn.tensordot(L, R, axes=((0, 1, 2, 3), (1, 0, 3, 2))).to_number()\n"
   ]
  },
  {
   "cell_type": "code",
   "execution_count": null,
   "id": "633b993a",
   "metadata": {},
   "outputs": [
    {
     "name": "stdout",
     "output_type": "stream",
     "text": [
      "beta=0.24068679350977146, truncation error=0\n",
      "beta=0.24068679350977146, truncation error=0\n",
      "beta=0.24068679350977146, truncation error=0\n"
     ]
    }
   ],
   "source": [
    "beta_c = Ising_critical_beta()\n",
    "Free_energies = []\n",
    "\n",
    "D_max = 12\n",
    "max_sweeps = 20\n",
    "betas = np.linspace(beta_c-0.2, beta_c+0.2, 20)\n",
    "for beta in betas:\n",
    "    psi = Ising_dense(beta=beta, h=0.0)\n",
    "    loop_tnr = LoopTNR(psi, D_max)\n",
    "\n",
    "    res = 0\n",
    "    for step in range(10):\n",
    "        truncate_err = loop_tnr.rg(max_sweeps, filter_max_sweeps=5000, filter_threshold=1e-5, loop_threshold=1e-7)\n",
    "        norms = post_processing(loop_tnr)\n",
    "        res += np.sum(np.log(norms))/len(norms)/2**(step+1)\n",
    "        print(f\"beta={beta}, truncation error={truncate_err}\")\n",
    "\n",
    "    f = -1/beta *(res + np.log(trace_2x2(loop_tnr))/2**(step+3)).real\n",
    "    Free_energies.append(f/2) # a single tensor represents \\sqrt{2} \\times \\sqrt{2} patch"
   ]
  },
  {
   "cell_type": "code",
   "execution_count": 39,
   "id": "f59d658d",
   "metadata": {},
   "outputs": [
    {
     "name": "stderr",
     "output_type": "stream",
     "text": [
      "/opt/homebrew/Caskroom/miniforge/base/envs/torch_peps/lib/python3.11/site-packages/matplotlib/cbook.py:1762: ComplexWarning: Casting complex values to real discards the imaginary part\n",
      "  return math.isfinite(val)\n",
      "/opt/homebrew/Caskroom/miniforge/base/envs/torch_peps/lib/python3.11/site-packages/matplotlib/cbook.py:1398: ComplexWarning: Casting complex values to real discards the imaginary part\n",
      "  return np.asarray(x, float)\n"
     ]
    },
    {
     "data": {
      "image/png": "[encoded data removed]",
      "text/plain": [
       "<Figure size 640x480 with 1 Axes>"
      ]
     },
     "metadata": {},
     "output_type": "display_data"
    }
   ],
   "source": [
    "def plot_free_energy(betas, free_energies):\n",
    "    beta_dense = np.linspace(np.min(betas), np.max(betas), 100)\n",
    "    Free_energies_exact = [F_exact(beta) for beta in beta_dense]\n",
    "    fig, ax = plt.subplots()\n",
    "    ax.plot(beta_dense, Free_energies_exact, label=\"exact\")\n",
    "    ax.plot(betas, Free_energies, lw=0, marker='o', label='TRG')\n",
    "    ax.plot(beta_c, F_exact(beta_c), lw=0, marker='^')\n",
    "    ax.legend()\n",
    "    ax.set_xlabel(r\"$\\beta$\")\n",
    "    ax.set_ylabel(\"f\")\n",
    "\n",
    "plot_free_energy(betas, Free_energies)"
   ]
  },
  {
   "cell_type": "code",
   "execution_count": null,
   "id": "bef47883",
   "metadata": {},
   "outputs": [],
   "source": []
  }
 ],
 "metadata": {
  "kernelspec": {
   "display_name": "torch_peps",
   "language": "python",
   "name": "python3"
  },
  "language_info": {
   "codemirror_mode": {
    "name": "ipython",
    "version": 3
   },
   "file_extension": ".py",
   "mimetype": "text/x-python",
   "name": "python",
   "nbconvert_exporter": "python",
   "pygments_lexer": "ipython3",
   "version": "3.11.9"
  }
 },
 "nbformat": 4,
 "nbformat_minor": 5
}
